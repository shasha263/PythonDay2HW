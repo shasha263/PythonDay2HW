{
 "cells": [
  {
   "cell_type": "markdown",
   "metadata": {},
   "source": [
    "# Week 2 - Monday Lesson (variable assignment, loops, lists)"
   ]
  },
  {
   "cell_type": "markdown",
   "metadata": {},
   "source": [
    "## Tasks Today:\n",
    "\n",
    "1) Int & Float assignments <br>\n",
    " &nbsp;&nbsp;&nbsp;&nbsp; a) Assigning int <br>\n",
    " &nbsp;&nbsp;&nbsp;&nbsp; b) Assigning float <br>\n",
    " &nbsp;&nbsp;&nbsp;&nbsp; c) Performing Calculations on ints and floats <br>\n",
    " &nbsp;&nbsp;&nbsp;&nbsp;&nbsp;&nbsp;&nbsp;&nbsp; - Addition <br>\n",
    " &nbsp;&nbsp;&nbsp;&nbsp;&nbsp;&nbsp;&nbsp;&nbsp; - Subtraction <br>\n",
    " &nbsp;&nbsp;&nbsp;&nbsp;&nbsp;&nbsp;&nbsp;&nbsp; - Multiplication <br>\n",
    " &nbsp;&nbsp;&nbsp;&nbsp;&nbsp;&nbsp;&nbsp;&nbsp; - Division <br>\n",
    " &nbsp;&nbsp;&nbsp;&nbsp;&nbsp;&nbsp;&nbsp;&nbsp; - Floor Division <br>\n",
    " &nbsp;&nbsp;&nbsp;&nbsp;&nbsp;&nbsp;&nbsp;&nbsp; - Modulo <br>\n",
    " &nbsp;&nbsp;&nbsp;&nbsp;&nbsp;&nbsp;&nbsp;&nbsp; - Exponential <br>\n",
    "2) String Input-Output <br>\n",
    " &nbsp;&nbsp;&nbsp;&nbsp; a) String Assignment <br>\n",
    " &nbsp;&nbsp;&nbsp;&nbsp; b) print() <br>\n",
    " &nbsp;&nbsp;&nbsp;&nbsp; c) String Concatenation <br>\n",
    " &nbsp;&nbsp;&nbsp;&nbsp; d) Type Conversion <br>\n",
    " &nbsp;&nbsp;&nbsp;&nbsp; e) input() <br>\n",
    " &nbsp;&nbsp;&nbsp;&nbsp; f) format() <br>\n",
    " &nbsp;&nbsp;&nbsp;&nbsp; g) Old Way (python 2) <br>\n",
    "3) <b>In-Class Exercise #1</b> <br>\n",
    "4) If Statements <br>\n",
    " &nbsp;&nbsp;&nbsp;&nbsp; a) 'is' keyword <br>\n",
    " &nbsp;&nbsp;&nbsp;&nbsp; b) 'in' keyword <br>\n",
    " &nbsp;&nbsp;&nbsp;&nbsp; c) 'not in' keyword <br>\n",
    "5) <b>In-Class Exercise #2</b> <br>\n",
    "6) Elif Statements <br>\n",
    "7) Else Statements <br>\n",
    "8) <b>In-Class Exercise #3</b> <br>\n",
    "9) For Loops <br>\n",
    " &nbsp;&nbsp;&nbsp;&nbsp; a) Using 'in' keyword <br>\n",
    " &nbsp;&nbsp;&nbsp;&nbsp; b) Continue Statement <br>\n",
    " &nbsp;&nbsp;&nbsp;&nbsp; c) Break Statement <br>\n",
    " &nbsp;&nbsp;&nbsp;&nbsp; d) Pass Statement <br>\n",
    " &nbsp;&nbsp;&nbsp;&nbsp; e) Double For Loops <br>\n",
    "10) While Loops <br>\n",
    " &nbsp;&nbsp;&nbsp;&nbsp; a) Looping 'While True' <br>\n",
    " &nbsp;&nbsp;&nbsp;&nbsp; b) While and For Loops Used Together <br>\n",
    "11) Built-In Functions <br>\n",
    " &nbsp;&nbsp;&nbsp;&nbsp; a) range() <br>\n",
    " &nbsp;&nbsp;&nbsp;&nbsp; b) len() <br>\n",
    " &nbsp;&nbsp;&nbsp;&nbsp; c) help() <br>\n",
    " &nbsp;&nbsp;&nbsp;&nbsp; d) isinstance() <br>\n",
    " &nbsp;&nbsp;&nbsp;&nbsp; e) abs() <br>\n",
    "12) Try and Except <br>\n",
    "13) Lists <br>\n",
    " &nbsp;&nbsp;&nbsp;&nbsp; a) Declaring Lists <br>\n",
    " &nbsp;&nbsp;&nbsp;&nbsp; b) Indexing a List <br>\n",
    " &nbsp;&nbsp;&nbsp;&nbsp; c) .append() <br>\n",
    " &nbsp;&nbsp;&nbsp;&nbsp; d) .insert() <br>\n",
    " &nbsp;&nbsp;&nbsp;&nbsp; e) .pop() <br>\n",
    " &nbsp;&nbsp;&nbsp;&nbsp; f) .remove() <br>\n",
    " &nbsp;&nbsp;&nbsp;&nbsp; g) del() <br>\n",
    " &nbsp;&nbsp;&nbsp;&nbsp; h) Concatenating Two Lists <br>\n",
    " &nbsp;&nbsp;&nbsp;&nbsp; i) Lists Within Lists <br>\n",
    " &nbsp;&nbsp;&nbsp;&nbsp; j) Looping Through Lists <br>"
   ]
  },
  {
   "cell_type": "markdown",
   "metadata": {},
   "source": [
    "### Int & Float Assignments"
   ]
  },
  {
   "cell_type": "markdown",
   "metadata": {},
   "source": [
    "##### Assigning int"
   ]
  },
  {
   "cell_type": "code",
   "execution_count": 2,
   "metadata": {},
   "outputs": [
    {
     "name": "stdout",
     "output_type": "stream",
     "text": [
      "3 20\n"
     ]
    }
   ],
   "source": [
    "# variable assignment, creating a variable, saving something as a variable, variable redefinition\n",
    "# are all referring to setting a variable name equal to some value\n",
    "# variable names can be anything - x, a_var, lego, coffee all could be variable names\n",
    "# variable names by convention are always first letter lowercase and typically if they are multiple words\n",
    "# those words will be separated by underscores (in python)\n",
    "\n",
    "# syntax clues - special characters we can look for in certain positions that tell us what that line of code is doing\n",
    "# our syntax clue for variable assignment is the single equals sign\n",
    "# variable_name = value\n",
    "\n",
    "x = 3\n",
    "\n",
    "# integers are one of our 4 main datatypes - they are non-decimal numbers\n",
    "y = 20\n",
    "print(x, y)"
   ]
  },
  {
   "cell_type": "markdown",
   "metadata": {},
   "source": [
    "##### Assigning float"
   ]
  },
  {
   "cell_type": "code",
   "execution_count": 4,
   "metadata": {},
   "outputs": [
    {
     "name": "stdout",
     "output_type": "stream",
     "text": [
      "<class 'float'>\n",
      "<class 'int'>\n"
     ]
    }
   ],
   "source": [
    "z = 3.0\n",
    "print(type(z)) # calling the type function on a variable will return a string of that variable's type\n",
    "print(type(x))"
   ]
  },
  {
   "cell_type": "code",
   "execution_count": 5,
   "metadata": {},
   "outputs": [
    {
     "name": "stdout",
     "output_type": "stream",
     "text": [
      "3 <class 'int'>\n",
      "3.0 <class 'float'>\n",
      "3 <class 'str'>\n"
     ]
    }
   ],
   "source": [
    "xint = 3\n",
    "print(xint, type(x))\n",
    "xfl = 3.0\n",
    "print(xfl, type(xfl))\n",
    "xs = '3'\n",
    "print(xs, type(xs))"
   ]
  },
  {
   "cell_type": "markdown",
   "metadata": {},
   "source": [
    "#### Performing Calculations on ints and floats"
   ]
  },
  {
   "cell_type": "markdown",
   "metadata": {},
   "source": [
    "##### Addition"
   ]
  },
  {
   "cell_type": "code",
   "execution_count": 8,
   "metadata": {},
   "outputs": [
    {
     "name": "stdout",
     "output_type": "stream",
     "text": [
      "6.0 <class 'float'>\n"
     ]
    }
   ],
   "source": [
    "# +\n",
    "x + y\n",
    "\n",
    "# we can add floats and integers -> gives a float\n",
    "added = x + z\n",
    "print(added, type(added))"
   ]
  },
  {
   "cell_type": "markdown",
   "metadata": {},
   "source": [
    "##### Subtraction"
   ]
  },
  {
   "cell_type": "code",
   "execution_count": 9,
   "metadata": {},
   "outputs": [
    {
     "data": {
      "text/plain": [
       "-17"
      ]
     },
     "execution_count": 9,
     "metadata": {},
     "output_type": "execute_result"
    }
   ],
   "source": [
    "# -\n",
    "x-y"
   ]
  },
  {
   "cell_type": "markdown",
   "metadata": {},
   "source": [
    "##### Multiplication"
   ]
  },
  {
   "cell_type": "code",
   "execution_count": 28,
   "metadata": {},
   "outputs": [
    {
     "name": "stdout",
     "output_type": "stream",
     "text": [
      "60\n",
      "24.5\n"
     ]
    }
   ],
   "source": [
    "# *\n",
    "print(x*y)\n",
    "print(3.5*7)"
   ]
  },
  {
   "cell_type": "markdown",
   "metadata": {},
   "source": [
    "##### Division"
   ]
  },
  {
   "cell_type": "code",
   "execution_count": 14,
   "metadata": {},
   "outputs": [
    {
     "data": {
      "text/plain": [
       "6.666666666666667"
      ]
     },
     "execution_count": 14,
     "metadata": {},
     "output_type": "execute_result"
    }
   ],
   "source": [
    "# normal division - returns a float\n",
    "# /\n",
    "y/x"
   ]
  },
  {
   "cell_type": "markdown",
   "metadata": {},
   "source": [
    "##### Floor Division"
   ]
  },
  {
   "cell_type": "code",
   "execution_count": 17,
   "metadata": {},
   "outputs": [
    {
     "data": {
      "text/plain": [
       "6"
      ]
     },
     "execution_count": 17,
     "metadata": {},
     "output_type": "execute_result"
    }
   ],
   "source": [
    "# floor division gives the result of normal division rounded down to the nearest integer\n",
    "# returns an integer\n",
    "# //\n",
    "y//x"
   ]
  },
  {
   "cell_type": "markdown",
   "metadata": {},
   "source": [
    "##### Modulo"
   ]
  },
  {
   "cell_type": "code",
   "execution_count": 21,
   "metadata": {},
   "outputs": [
    {
     "data": {
      "text/plain": [
       "2"
      ]
     },
     "execution_count": 21,
     "metadata": {},
     "output_type": "execute_result"
    }
   ],
   "source": [
    "# modulo - remainder division - gives the remainder after floor division\n",
    "# example - 5%2 (five mod two) gives us one - because 5-1 is divisible by 2\n",
    "# y is 20, x is 3 -> 6*3 = 18 and there is 2 left over\n",
    "y%x"
   ]
  },
  {
   "cell_type": "markdown",
   "metadata": {},
   "source": [
    "##### Exponential"
   ]
  },
  {
   "cell_type": "code",
   "execution_count": 25,
   "metadata": {},
   "outputs": [
    {
     "data": {
      "text/plain": [
       "243"
      ]
     },
     "execution_count": 25,
     "metadata": {},
     "output_type": "execute_result"
    }
   ],
   "source": [
    "# you would assume that ^ would be the exponent operator\n",
    "# it is not\n",
    "# we use two asterisks for exponents\n",
    "x**2 # x squared\n",
    "x**5 # x^5"
   ]
  },
  {
   "cell_type": "markdown",
   "metadata": {},
   "source": [
    "### String Input-Output"
   ]
  },
  {
   "cell_type": "markdown",
   "metadata": {},
   "source": [
    "##### String Assignment"
   ]
  },
  {
   "cell_type": "code",
   "execution_count": 34,
   "metadata": {},
   "outputs": [
    {
     "name": "stdout",
     "output_type": "stream",
     "text": [
      "Fennec Fox <class 'str'>\n",
      "Arctic Fox <class 'str'>\n"
     ]
    }
   ],
   "source": [
    "# syntax clue for strings are single or double quotes\n",
    "# a string must always be in quotations\n",
    "# if you have a word or something not in quotations, python will think it is a variable name\n",
    "fox = 'Fennec Fox'\n",
    "fox2 = \"Arctic Fox\"\n",
    "print(fox, type(fox))\n",
    "print(fox2, type(fox2))"
   ]
  },
  {
   "cell_type": "markdown",
   "metadata": {},
   "source": [
    "##### print() <br>\n",
    "<p>Don't forget about end=' '</p>"
   ]
  },
  {
   "cell_type": "code",
   "execution_count": 42,
   "metadata": {},
   "outputs": [
    {
     "name": "stdout",
     "output_type": "stream",
     "text": [
      "Fennec Fox\n",
      "Fennec Fox has data type: <class 'str'>\n",
      "Fennec Fox\n",
      "\n",
      "Arctic Fox!!"
     ]
    }
   ],
   "source": [
    "print(fox) # calling the built-in print function on the variable fox\n",
    "\n",
    "# calling the built-in print function on the variable fox \n",
    "    # and on the result or returned value of calling the built-in type function on the variable fox\n",
    "print(fox, type(fox), sep=' has data type: ') # syntax clue for a function call is function_name(inputs)\n",
    "\n",
    "# by default print always prints onto a new line of output\n",
    "# however, this is actually controlled by an input variable/parameter with a default value\n",
    "# print() has a parameter called end which controls what goes at the end of the print line\n",
    "# by default end='\\n' which creates a new line\n",
    "# so, I can modify the end parameter of my print statement to end my print statement with something else\n",
    "print(fox, end='\\n\\n')\n",
    "print(fox2, end='!!')"
   ]
  },
  {
   "cell_type": "markdown",
   "metadata": {},
   "source": [
    "##### String Concatenation"
   ]
  },
  {
   "cell_type": "code",
   "execution_count": 60,
   "metadata": {},
   "outputs": [
    {
     "name": "stdout",
     "output_type": "stream",
     "text": [
      "line19 Fennec Fox!\n",
      "line20 Fennec Fox\n",
      "line23 Fennec Fox!\n",
      "Arctic Fox\n",
      "Fennec Fox!Arctic Fox\n",
      "22\n",
      "23\n"
     ]
    }
   ],
   "source": [
    "# addition of strings\n",
    "fox + fox2\n",
    "\n",
    "# data types and collections/data structures are all inherently either changeable or not changeable\n",
    "# in computer science we refer to this 'changeability' as a piece of data's mutability\n",
    "# data is either mutable (changeable)\n",
    "# or immutable (cannot be changed)\n",
    "# each of our four main data types: ints, floats, strings, booleans\n",
    "# are in fact immutable -> they cannot directly be changed\n",
    "# when we change a string what we're actually doing is creating a whole new string\n",
    "\n",
    "# adding an exclamation to fox does not directly modify the fox variable's value\n",
    "# it just makes a new string\n",
    "# in practice, if we do want to modify the fox variable's value\n",
    "# we just have to redefine the variable\n",
    "# just doing variable assignment again\n",
    "# variable = variable+transformation\n",
    "fox = 'Fennec Fox'\n",
    "print('line19', fox+'!')\n",
    "print('line20', fox)\n",
    "fox = fox + '!'\n",
    "print('line23', fox)\n",
    "\n",
    "fox2 = 'Arctic Fox'\n",
    "print(fox2)\n",
    "fox2 = fox + fox2 # redefine fox2 to be equal to the string concatenation of the fox variable and the old value of fox2\n",
    "print(fox2)\n",
    "\n",
    "print(x)\n",
    "x = x+1\n",
    "print(x)"
   ]
  },
  {
   "cell_type": "markdown",
   "metadata": {},
   "source": [
    "##### Type Conversion"
   ]
  },
  {
   "cell_type": "code",
   "execution_count": 73,
   "metadata": {},
   "outputs": [
    {
     "name": "stdout",
     "output_type": "stream",
     "text": [
      "3 <class 'int'>\n",
      "3 <class 'str'>\n",
      "3.0 <class 'float'>\n"
     ]
    },
    {
     "ename": "ValueError",
     "evalue": "could not convert string to float: 'three'",
     "output_type": "error",
     "traceback": [
      "\u001b[1;31m---------------------------------------------------------------------------\u001b[0m",
      "\u001b[1;31mValueError\u001b[0m                                Traceback (most recent call last)",
      "\u001b[1;32m<ipython-input-73-2804ee7e457e>\u001b[0m in \u001b[0;36m<module>\u001b[1;34m\u001b[0m\n\u001b[0;32m     16\u001b[0m \u001b[1;31m# we cannot convert alphanumeric strings to integers/floats\u001b[0m\u001b[1;33m\u001b[0m\u001b[1;33m\u001b[0m\u001b[1;33m\u001b[0m\u001b[0m\n\u001b[0;32m     17\u001b[0m \u001b[0mnumber\u001b[0m \u001b[1;33m=\u001b[0m \u001b[1;34m'three'\u001b[0m\u001b[1;33m\u001b[0m\u001b[1;33m\u001b[0m\u001b[0m\n\u001b[1;32m---> 18\u001b[1;33m \u001b[0mnumber\u001b[0m \u001b[1;33m=\u001b[0m \u001b[0mfloat\u001b[0m\u001b[1;33m(\u001b[0m\u001b[0mnumber\u001b[0m\u001b[1;33m)\u001b[0m\u001b[1;33m\u001b[0m\u001b[1;33m\u001b[0m\u001b[0m\n\u001b[0m",
      "\u001b[1;31mValueError\u001b[0m: could not convert string to float: 'three'"
     ]
    }
   ],
   "source": [
    "# when applicable, we can convert between our main data types\n",
    "x = 3 # int\n",
    "# typecasting/type conversion\n",
    "# str(), float(), int() -> when we pass a variable or a value into one of these functions\n",
    "# it will return the same value as the specified datatype if possible\n",
    "x = float(3)\n",
    "#print(x)\n",
    "# you can typecast any numerical values between all three types\n",
    "threestring = int(3.5)\n",
    "print(threestring, type(threestring))\n",
    "threestring = str(threestring)\n",
    "print(threestring, type(threestring))\n",
    "threestring = float(threestring)\n",
    "print(threestring, type(threestring))\n",
    "\n",
    "# we cannot convert alphanumeric strings to integers/floats\n",
    "number = 'three'\n",
    "number = float(number)"
   ]
  },
  {
   "cell_type": "markdown",
   "metadata": {},
   "source": [
    "##### input()"
   ]
  },
  {
   "cell_type": "code",
   "execution_count": 78,
   "metadata": {},
   "outputs": [
    {
     "name": "stdout",
     "output_type": "stream",
     "text": [
      "What is your favorite animal? Penguin\n",
      "Penguin <class 'str'>\n"
     ]
    }
   ],
   "source": [
    "# asks the user for a string input in the terminal\n",
    "animal = input('What is your favorite animal? ')\n",
    "print(animal, type(animal))\n"
   ]
  },
  {
   "cell_type": "markdown",
   "metadata": {},
   "source": [
    "##### format()"
   ]
  },
  {
   "cell_type": "code",
   "execution_count": 79,
   "metadata": {},
   "outputs": [
    {
     "data": {
      "text/plain": [
       "'I purchased an Ocelot from Doctor Algernop Krieger for $3000.'"
      ]
     },
     "execution_count": 79,
     "metadata": {},
     "output_type": "execute_result"
    }
   ],
   "source": [
    "# the most common way to format a string in python 3+ is using an f-string\n",
    "price = 3000\n",
    "animal = 'Ocelot'\n",
    "salesman = 'Doctor Algernop Krieger'\n",
    "\n",
    "sentence = f'I purchased an {animal} from {salesman} for ${price}.'\n",
    "sentence"
   ]
  },
  {
   "cell_type": "code",
   "execution_count": 84,
   "metadata": {},
   "outputs": [
    {
     "data": {
      "text/plain": [
       "'I purchased an Ocelot from Doctor Algernop Krieger for $3000.'"
      ]
     },
     "execution_count": 84,
     "metadata": {},
     "output_type": "execute_result"
    }
   ],
   "source": [
    "# other approach - .format() method\n",
    "other = 'I purchased an {} from {} for ${}.'\n",
    "other = other.format(animal, salesman, price)\n",
    "other\n",
    "\n",
    "# format function? format method? which is it?\n",
    "# function vs. method\n",
    "# every method is a function\n",
    "# not every function is a method\n",
    "# a method is just a function that belongs to a specific class (more on that next week)\n",
    "# a way to recognize a method is the dot notation in its function call\n",
    "# other.format(animal)\n",
    "# variable_of_class_that_the_method_belongs_to.method_name(parameters)"
   ]
  },
  {
   "cell_type": "markdown",
   "metadata": {},
   "source": [
    "# In-Class Exercise 1 <br>\n",
    "<p>Create a format statement that asks for color, year, make, model and prints out the results</p>"
   ]
  },
  {
   "cell_type": "code",
   "execution_count": 90,
   "metadata": {},
   "outputs": [
    {
     "name": "stdout",
     "output_type": "stream",
     "text": [
      "What is your favorite color? green\n",
      "What year was this car made? 1965\n",
      "What kind of car is this? Aston Martin\n",
      "What model of car is this? DB5\n",
      "This is a green 1965 Aston Martin DB5.\n"
     ]
    }
   ],
   "source": [
    "# ask the user for a color, a year, a make, a model\n",
    "# and print out a sentence describing that car\n",
    "# example output: 'This is a 2021 McLaren P1.'\n",
    "\n",
    "# you will need to assign multiple variables\n",
    "# you should use an f-string\n",
    "# you will need input()\n",
    "\n",
    "color = input('What is your favorite color? ')\n",
    "year = input('What year was this car made? ')\n",
    "make = input('What kind of car is this? ')\n",
    "model = input('What model of car is this? ')\n",
    "\n",
    "s = f'This is a {color} {year} {make} {model}.'\n",
    "print(s)"
   ]
  },
  {
   "cell_type": "markdown",
   "metadata": {},
   "source": [
    "### If Statements"
   ]
  },
  {
   "cell_type": "markdown",
   "metadata": {},
   "source": [
    "general structure of any conditional statement\n",
    "<br>\n",
    "<value/variable_name> boolean_operator <value/variable_name/comparison>"
   ]
  },
  {
   "cell_type": "code",
   "execution_count": 104,
   "metadata": {},
   "outputs": [
    {
     "name": "stdout",
     "output_type": "stream",
     "text": [
      "True <class 'bool'>\n",
      "False <class 'bool'>\n",
      "Sam\n"
     ]
    }
   ],
   "source": [
    "# Available operators: Greater(>), Less(<),Equal(==)\n",
    "# Greater or Equal(>=), Less or Equal (<=)\n",
    "\n",
    "# every conditional statement must evaluate down to a boolean (bool) True/False\n",
    "# and in python boolean True/False are always capitalized\n",
    "t = True\n",
    "f = False\n",
    "print(t, type(t))\n",
    "print(f, type(f))\n",
    "\n",
    "# Truth Tree:\n",
    "# T && F = F\n",
    "# T && T = T\n",
    "# T || F = T\n",
    "# F || T = T\n",
    "# F || F = F\n",
    "\n",
    "x = 'fox'\n",
    "z = 'bear'\n",
    "# normal mathmatical operators >, <, >=, <=, ==\n",
    "# they primarily only work as expected with numerical values (except ==)\n",
    "# it is possible to compare strings in terms of their 'value' but it is not comparing what you might expect\n",
    "x >= z # this is a standalone boolean statement\n",
    "\n",
    "a = -5\n",
    "me = 'Sam'\n",
    "# all you're doing with an if statement\n",
    "# is you are providing a conditional statement to tell python whether it should run the code contained within the if block\n",
    "# or if should skip the code contained within the if block\n",
    "if a>1:\n",
    "    print('five is indeed greater than one')\n",
    "    me = 'Sam!'\n",
    "print(me)\n",
    "    \n",
    "# the if statement is a specific keyword creating a conditional structure within our code\n",
    "# if <something that evaluates to T/F>:\n",
    "    #<whatever code you want to run if True was reached>\n",
    "# if my condition is met:\n",
    "    # do this thing\n",
    "    \n",
    "# a colon is our syntax clue that signifies the start of a code block\n",
    "# you will need an indented line the line after a colon"
   ]
  },
  {
   "cell_type": "code",
   "execution_count": 116,
   "metadata": {},
   "outputs": [
    {
     "name": "stdout",
     "output_type": "stream",
     "text": [
      "this is true\n",
      "sam is sam\n",
      "value of both variables is the same\n"
     ]
    }
   ],
   "source": [
    "# == value equality comparison operator\n",
    "me = 'Sam'\n",
    "me2 = 'Sam'\n",
    "\n",
    "if 5 == 5:\n",
    "    print('this is true')\n",
    "if me == 'Sam':\n",
    "    print('sam is sam')\n",
    "if me == me2:\n",
    "    print('value of both variables is the same')"
   ]
  },
  {
   "cell_type": "markdown",
   "metadata": {},
   "source": [
    "##### 'is' keyword"
   ]
  },
  {
   "cell_type": "code",
   "execution_count": 119,
   "metadata": {
    "scrolled": true
   },
   "outputs": [
    {
     "name": "stdout",
     "output_type": "stream",
     "text": [
      "same value\n"
     ]
    }
   ],
   "source": [
    "# if double equals '==' is like asking \"are these both foxes?\"\n",
    "# then 'is' is like asking \"are both these photos of the same fox?\"\n",
    "# is is our reference equality comparison operator\n",
    "me = ['Sam']\n",
    "me2 = ['Sam']\n",
    "if me == me2:\n",
    "    print('same value')\n",
    "if me is me2:\n",
    "    print('not same ref')\n",
    "    \n",
    "# is has a much more specialized use case than ==\n",
    "# specifically for comparing the reference/memory location of two variables\n",
    "# most of the time, you will just want to use == to compare equality of value"
   ]
  },
  {
   "cell_type": "markdown",
   "metadata": {},
   "source": [
    "##### 'in' keyword"
   ]
  },
  {
   "cell_type": "code",
   "execution_count": 130,
   "metadata": {},
   "outputs": [
    {
     "name": "stdout",
     "output_type": "stream",
     "text": [
      "What student should I look for? Devon\n",
      "Devon is not a student in this class.\n"
     ]
    }
   ],
   "source": [
    "# determine whether a value is present in a string or some other collection\n",
    "students = 'Ethan, Zaki, Adrian, Vanessa, Ezekiel, Mohammed, Paul'\n",
    "ask = input('What student should I look for? ')\n",
    "if ask in students: # first we try the condition in the if statement and potentially run the code in the if block\n",
    "    print(f'{ask} is a student in this class.')\n",
    "else: # if we did not run the code in the if block (if statement was false), then we run the code in the else block\n",
    "    print(f'{ask} is not a student in this class.')\n",
    "    \n",
    "# so far we have just looked at using 'in' for strings\n",
    "# however, other uses of 'in' that we will see later in the class include:\n",
    "    # membership in lists\n",
    "    # membership in sets\n",
    "    # membership in tuples\n",
    "    # membership in dictionary keys\n",
    "# commonly reffered to as membership tests"
   ]
  },
  {
   "cell_type": "markdown",
   "metadata": {},
   "source": [
    "##### 'not' keyword"
   ]
  },
  {
   "cell_type": "code",
   "execution_count": 136,
   "metadata": {},
   "outputs": [
    {
     "name": "stdout",
     "output_type": "stream",
     "text": [
      "False\n",
      "What student should I look for? Ezekiel\n",
      "Ezekiel is a student in this class.\n"
     ]
    }
   ],
   "source": [
    "# not is a keyword that can be applied to any boolean statement\n",
    "# it flips the result\n",
    "# not True -> False\n",
    "# not False -> True\n",
    "print(not 5>1)\n",
    "if not 5>1:\n",
    "    print('five is greater than one')\n",
    "\n",
    "# determine whether a value is present in a string or some other collection\n",
    "# same students example with condition flipped using not\n",
    "students = 'Ethan, Zaki, Adrian, Vanessa, Ezekiel, Mohammed, Paul'\n",
    "ask = input('What student should I look for? ')\n",
    "if ask not in students: # first we try the condition in the if statement and potentially run the code in the if block\n",
    "    print(f'{ask} is not a student in this class.')\n",
    "else: # if we did not run the code in the if block (if statement was false), then we run the code in the else block\n",
    "    print(f'{ask} is a student in this class.')"
   ]
  },
  {
   "cell_type": "code",
   "execution_count": 147,
   "metadata": {},
   "outputs": [
    {
     "name": "stdout",
     "output_type": "stream",
     "text": [
      "False\n",
      "True\n"
     ]
    }
   ],
   "source": [
    "# in other languages, such as Javascript, you will see ! used in place of not\n",
    "print(5==1)\n",
    "print(5!=1)\n",
    "\n",
    "#python's only use of ! is in our 'not equals' operator !="
   ]
  },
  {
   "cell_type": "code",
   "execution_count": 142,
   "metadata": {},
   "outputs": [
    {
     "name": "stdout",
     "output_type": "stream",
     "text": [
      "always runs\n",
      "not False is True -> always runs\n",
      "animal is a varaible with a value\n",
      "not nothing is something therefore is True\n",
      "one\n"
     ]
    }
   ],
   "source": [
    "# we have this idea that every conditional statement must evaluate to either True or False\n",
    "# the logical extension is that any True or False value can be used for a conditional statement\n",
    "if True:\n",
    "    print('always runs')\n",
    "if False:\n",
    "    print('never runs, False is False')\n",
    "if not False:\n",
    "    print('not False is True -> always runs')\n",
    "    \n",
    "# implied existence operator\n",
    "# if this thing exists -> its True\n",
    "animal = 'Panda'\n",
    "if animal:\n",
    "    print('animal is a varaible with a value')\n",
    "if not None:\n",
    "    print('not nothing is something therefore is True')\n",
    "\n",
    "# a variable with some value or not no value is inherently True\n",
    "# a variable with a None value or an empty string '' is inherently False\n",
    "\n",
    "# boolean as a datatype True/False is stored in your computers memory as 0 or 1\n",
    "# therefore 0 and 1 have inherently True/False value\n",
    "if 1: # one has inherent value of True\n",
    "    print('one')\n",
    "if 0: # zero has inherent value of False\n",
    "    print('zero')"
   ]
  },
  {
   "cell_type": "markdown",
   "metadata": {},
   "source": [
    "# In-Class Exercise 2 <br>\n",
    "<p>Ask user for input, check to see if the letter 'p' is in the input</p>"
   ]
  },
  {
   "cell_type": "code",
   "execution_count": 157,
   "metadata": {},
   "outputs": [
    {
     "name": "stdout",
     "output_type": "stream",
     "text": [
      "What animal does Sam plan to steal from the Shedd Aquarium on December 2nd? Penguin\n",
      "\n",
      "\n",
      "This is a joke.\n"
     ]
    }
   ],
   "source": [
    "# variable assignment\n",
    "# input()\n",
    "# conditional if statement\n",
    "user_input = input('What animal does Sam plan to steal from the Shedd Aquarium on December 2nd? ')\n",
    "print('\\n')\n",
    "if 'p' in user_input:\n",
    "    print('This is 100% a serious plan and is going to work.')\n",
    "else:\n",
    "    print('This is a joke.')"
   ]
  },
  {
   "cell_type": "markdown",
   "metadata": {},
   "source": [
    "## Using 'and'/'or' with If Statements"
   ]
  },
  {
   "cell_type": "code",
   "execution_count": 166,
   "metadata": {},
   "outputs": [
    {
     "name": "stdout",
     "output_type": "stream",
     "text": [
      "What animal does Sam plan to steal from the Shedd Aquarium on December 2nd? Tiger\n",
      "This is a joke.\n",
      "This will always print regardless of what input I give\n",
      "False\n",
      "True\n"
     ]
    }
   ],
   "source": [
    "# using and and/or or keywords we can combine multiple boolean statements/conditional statements into one if statement\n",
    "# the computer doesn't think of 'p' and 'P' as the same. Therefore, we need to ask two separate boolean statements\n",
    "# is 'p' in the user input or is 'P' in the user input\n",
    "user_input = input('What animal does Sam plan to steal from the Shedd Aquarium on December 2nd? ')\n",
    "\n",
    "if 'p' in user_input and 'P' in user_input:\n",
    "    print('This is 100% a serious plan and is going to work.')\n",
    "else:\n",
    "    print('This is a joke.')\n",
    "    \n",
    "# Truth Tree:\n",
    "# T and F = F\n",
    "# T and T = T\n",
    "# F and F = F\n",
    "# T or F = T\n",
    "# F or T = T\n",
    "# F or F = F\n",
    "# T or T = T\n",
    "\n",
    "# many people are tempted to apply english language logic directly to and/or\n",
    "# computers ain't smart\n",
    "# it don't work\n",
    "# the left and right side of or/and must both be complete conditional statements in their own rights\n",
    "if 'p' or 'P' in user_input: # this will not work\n",
    "    print('This will always print regardless of what input I give')\n",
    "    \n",
    "print('P' in user_input)\n",
    "if 'p': # any value or variable other than None, 0, '', [], {} will be True\n",
    "    print(True)\n"
   ]
  },
  {
   "cell_type": "code",
   "execution_count": 167,
   "metadata": {},
   "outputs": [
    {
     "name": "stdout",
     "output_type": "stream",
     "text": [
      "Wow thats confusing\n"
     ]
    }
   ],
   "source": [
    "# like we saw in the leap_year prework question, as long you eventually get down to a single True or False\n",
    "# you can use as many ands and ors as you want\n",
    "if 3<5 and ('p' and not (5==5 and 300<1)):\n",
    "    print('Wow thats confusing')\n",
    "    \n",
    "# if True and (True and not (True and False))\n",
    "# if True and (True and not False)\n",
    "# if True and (True and True)\n",
    "# if True and True\n",
    "# if True"
   ]
  },
  {
   "cell_type": "markdown",
   "metadata": {},
   "source": [
    "### Elif Statements"
   ]
  },
  {
   "cell_type": "code",
   "execution_count": 175,
   "metadata": {},
   "outputs": [
    {
     "name": "stdout",
     "output_type": "stream",
     "text": [
      "What animal does Sam plan to steal from the Shedd Aquarium on December 2nd? dog\n",
      "User input contained neither p or t or z. This is a joke.\n"
     ]
    }
   ],
   "source": [
    "# elif stands for else if\n",
    "# often with conditional trees we may have multiple scenarios we want to test for\n",
    "# does my user input contain a 'p'?\n",
    "# if not, does it contain a 't'?\n",
    "# if it has neither, what do i do?\n",
    "\n",
    "# elif must follow an if statement\n",
    "# and an elif is an intermediate step between an if statement and an else statment\n",
    "# just like if, and elif must contain a condition (which else does not need)\n",
    "# the code inside of an elif block will only under two circumstances\n",
    "    # 1. the preceeding if block must have not run (aka it eval'd to false)\n",
    "    # 2. the elif block's condition must eval to true\n",
    "    \n",
    "user_input = input('What animal does Sam plan to steal from the Shedd Aquarium on December 2nd? ')\n",
    "if 'p' in user_input:\n",
    "    print('User input contains p. This is 100% a serious plan and is going to work.')\n",
    "elif 't' in user_input:\n",
    "    print('User input contains t. Im gonna steal a penguin.')\n",
    "elif 'z' in user_input:\n",
    "    print('User input contains z. Im gonna steal a penguin.')\n",
    "else:\n",
    "    print('User input contained neither p or t or z. This is a joke.')"
   ]
  },
  {
   "cell_type": "markdown",
   "metadata": {},
   "source": [
    "### Else Statements"
   ]
  },
  {
   "cell_type": "code",
   "execution_count": null,
   "metadata": {},
   "outputs": [],
   "source": [
    "# see above\n",
    "# doesn't need a condition\n",
    "# else statements must follow an if (and/or if + elifs)\n",
    "# the else code block will only run when none of the proceeding if/elifs ran"
   ]
  },
  {
   "cell_type": "markdown",
   "metadata": {},
   "source": [
    "<h3>Nesting Conditionals & Code Blocks</h3>"
   ]
  },
  {
   "cell_type": "code",
   "execution_count": 179,
   "metadata": {},
   "outputs": [
    {
     "name": "stdout",
     "output_type": "stream",
     "text": [
      "first block\n",
      "outside of second block\n"
     ]
    }
   ],
   "source": [
    "if 3>=3: # >= greater than or equal to\n",
    "    print('first block')\n",
    "    actor = 'Dule Hill'\n",
    "    if actor == 'Dule Hill': # double nested\n",
    "        print('second block')\n",
    "        if 'dave' in actor: # triple nested\n",
    "            print('third block')\n",
    "        print('outside of third block')"
   ]
  },
  {
   "cell_type": "code",
   "execution_count": 181,
   "metadata": {},
   "outputs": [
    {
     "name": "stdout",
     "output_type": "stream",
     "text": [
      "What animal does Sam plan to steal from the Shedd Aquarium on December 2nd? platypus\n",
      "User input contains p. This is 100% a serious plan and is going to work.\n",
      "user input contained p but wasnt penguin or parrot\n"
     ]
    }
   ],
   "source": [
    "user_input = input('What animal does Sam plan to steal from the Shedd Aquarium on December 2nd? ')\n",
    "if 'p' in user_input:\n",
    "    print('User input contains p. This is 100% a serious plan and is going to work.')\n",
    "    if 'penguin' == user_input:\n",
    "        print('user input was in fact penguin')\n",
    "    elif 'parrot' == user_input:\n",
    "        print('arr im a pirate')\n",
    "    else:\n",
    "        print('user input contained p but wasnt penguin or parrot')\n",
    "elif 't' in user_input:\n",
    "    print('User input contains t. Im gonna steal a penguin.')\n",
    "    if 'tiger' == user_input:\n",
    "        print('user input was in fact tiger')\n",
    "elif 'z' in user_input:\n",
    "    print('User input contains z. Im gonna steal a penguin.')\n",
    "    if 'zebra' == user_input:\n",
    "        print('user input was in fact zebra')\n",
    "else:\n",
    "    print('User input contained neither p or t or z. This is a joke.')"
   ]
  },
  {
   "cell_type": "markdown",
   "metadata": {},
   "source": [
    "### For Loops"
   ]
  },
  {
   "cell_type": "code",
   "execution_count": 10,
   "metadata": {},
   "outputs": [
    {
     "name": "stdout",
     "output_type": "stream",
     "text": [
      "current letter: F\n",
      "current letter: e\n",
      "current letter: n\n",
      "current letter: n\n",
      "current letter: e\n",
      "current letter: c\n",
      "current letter:  \n",
      "current letter: F\n",
      "current letter: o\n",
      "current letter: x\n"
     ]
    }
   ],
   "source": [
    "#if I have some piece of data or collection of data made up of smaller pieces aka a list of words, a string of letters\n",
    "#then I can use a for loop to look at each smaller piece individually\n",
    "#the word we use to describe something that can be looped through is 'iterable'\n",
    "#a string, a list, a dictionary, a tuple, a set are all 'iterable' or referred as 'iterables'\n",
    "\n",
    "animal = 'Fennec Fox'\n",
    "# for <placeholder_variable> in <iterable>:\n",
    "for letter in animal:\n",
    "    # this for loop code block is going to run once for each letter in the string animal\n",
    "    print(f'current letter: {letter}')\n",
    "    \n",
    "# this initial implementation of the for loop is called a for-in loop\n",
    "# use case for the for-in loop: when you just need to see/access the values in an iterable"
   ]
  },
  {
   "cell_type": "markdown",
   "metadata": {},
   "source": [
    "##### Using 'in' keyword"
   ]
  },
  {
   "cell_type": "code",
   "execution_count": 13,
   "metadata": {},
   "outputs": [
    {
     "name": "stdout",
     "output_type": "stream",
     "text": [
      "J\n",
      "o\n",
      "h\n",
      "n\n",
      "n\n",
      "y\n",
      " \n",
      "D\n",
      "e\n",
      "p\n",
      "p\n"
     ]
    }
   ],
   "source": [
    "# see above\n",
    "\n",
    "actor = 'Johnny Depp'\n",
    "for c in actor:\n",
    "    print(c)"
   ]
  },
  {
   "cell_type": "markdown",
   "metadata": {},
   "source": [
    "##### Continue Statement"
   ]
  },
  {
   "cell_type": "code",
   "execution_count": null,
   "metadata": {},
   "outputs": [],
   "source": [
    "# will continue to next iteration\n",
    "\n",
    "# tells the for loop to skip the rest of the code in its code block and just move on to the next step"
   ]
  },
  {
   "cell_type": "code",
   "execution_count": 19,
   "metadata": {},
   "outputs": [
    {
     "name": "stdout",
     "output_type": "stream",
     "text": [
      "1\n",
      "4\n",
      "3\n",
      "1\n",
      "9\n",
      "8\n",
      "4\n",
      "1\n",
      "8\n",
      "4\n"
     ]
    }
   ],
   "source": [
    "alphanumeric = 'l1kel43198fh4h18sg4'\n",
    "# print only the numbers\n",
    "for x in alphanumeric:\n",
    "    # .isalpha() is a function that tells us if a string is a letter\n",
    "    if x.isalpha(): # if x is a letter\n",
    "        continue\n",
    "    print(x)"
   ]
  },
  {
   "cell_type": "markdown",
   "metadata": {},
   "source": [
    "##### Break Statement"
   ]
  },
  {
   "cell_type": "code",
   "execution_count": null,
   "metadata": {},
   "outputs": [],
   "source": [
    "# will break out of current loop"
   ]
  },
  {
   "cell_type": "code",
   "execution_count": 21,
   "metadata": {},
   "outputs": [
    {
     "name": "stdout",
     "output_type": "stream",
     "text": [
      "F\n",
      "e\n",
      "n\n",
      "n\n",
      "e\n",
      "c\n",
      "Fennec Fox\n"
     ]
    }
   ],
   "source": [
    "animal = 'Fennec Fox'\n",
    "for l in animal:\n",
    "    if l.isalpha():\n",
    "        print(l)\n",
    "    else:\n",
    "        break\n",
    "\n",
    "print(animal)"
   ]
  },
  {
   "cell_type": "markdown",
   "metadata": {},
   "source": [
    "##### Pass Statement"
   ]
  },
  {
   "cell_type": "code",
   "execution_count": null,
   "metadata": {},
   "outputs": [],
   "source": [
    "# mostly used as a placeholder, and will continue on same iteration"
   ]
  },
  {
   "cell_type": "code",
   "execution_count": 25,
   "metadata": {},
   "outputs": [
    {
     "name": "stdout",
     "output_type": "stream",
     "text": [
      "Ocelot\n"
     ]
    }
   ],
   "source": [
    "# pass doesn't really have any use other than preventing indentation errors\n",
    "animal = 'Ocelot'\n",
    "for i in animal:\n",
    "    pass\n",
    "print(animal)\n",
    "\n",
    "if True:\n",
    "    pass\n"
   ]
  },
  {
   "cell_type": "markdown",
   "metadata": {},
   "source": [
    "##### Double For Loops"
   ]
  },
  {
   "cell_type": "code",
   "execution_count": 38,
   "metadata": {},
   "outputs": [
    {
     "name": "stdout",
     "output_type": "stream",
     "text": [
      "1\n",
      "p\n",
      "a\n",
      "n\n",
      "d\n",
      "a\n",
      "2\n",
      "p\n",
      "a\n",
      "n\n",
      "d\n",
      "a\n",
      "3\n",
      "p\n",
      "a\n",
      "n\n",
      "d\n",
      "a\n",
      "4\n",
      "p\n",
      "a\n",
      "n\n",
      "d\n",
      "a\n",
      "5\n",
      "p\n",
      "a\n",
      "n\n",
      "d\n",
      "a\n"
     ]
    }
   ],
   "source": [
    "# note: nesting loops is highly inefficient -> \n",
    "    #you should generally try to avoid nesting loops\n",
    "    #especially if you do not know the length of what you are looping through\n",
    "\n",
    "word = 'panda'\n",
    "numstr = '12345'\n",
    "for x in numstr:\n",
    "    print(x)\n",
    "    # each step of our outer loop\n",
    "    # results in the inner loop running fully\n",
    "    for i in word:\n",
    "        print(i)"
   ]
  },
  {
   "cell_type": "code",
   "execution_count": null,
   "metadata": {},
   "outputs": [],
   "source": [
    "# Hey Sam, write up a whiteboard for this\n",
    "# input 'PandaOcelotFoxTigerFish'\n",
    "# intermediate transformation step ['Panda', 'Ocelot', 'Fox', 'Tiger', 'Fish']\n",
    "# output 'Panda Ocelot Fox Tiger Fish'"
   ]
  },
  {
   "cell_type": "code",
   "execution_count": 39,
   "metadata": {},
   "outputs": [
    {
     "name": "stdout",
     "output_type": "stream",
     "text": [
      "Fox\n",
      "F\n",
      "o\n",
      "x\n",
      "Tiger\n",
      "T\n",
      "i\n",
      "g\n",
      "e\n",
      "r\n",
      "Fish\n",
      "F\n",
      "i\n",
      "s\n",
      "h\n",
      "Ocelot\n",
      "O\n",
      "c\n",
      "e\n",
      "l\n",
      "o\n",
      "t\n",
      "Baboon\n",
      "B\n",
      "a\n",
      "b\n",
      "o\n",
      "o\n",
      "n\n"
     ]
    }
   ],
   "source": [
    "# most common use case of nested for loops -> list of strings\n",
    "animals = ['Fox', 'Tiger', 'Fish', 'Ocelot', 'Baboon']\n",
    "for a in animals:\n",
    "    print(a)\n",
    "    for i in a:\n",
    "        print(i)"
   ]
  },
  {
   "cell_type": "markdown",
   "metadata": {},
   "source": [
    "### While Loops"
   ]
  },
  {
   "cell_type": "code",
   "execution_count": 43,
   "metadata": {},
   "outputs": [
    {
     "name": "stdout",
     "output_type": "stream",
     "text": [
      "0\n",
      "1\n",
      "2\n",
      "3\n",
      "4\n",
      "5\n",
      "6\n",
      "7\n",
      "8\n",
      "9\n",
      "loop finished, current x value: 10\n"
     ]
    }
   ],
   "source": [
    "# a for loop knows how many steps to take based on its iterable\n",
    "\n",
    "# we also a style of looping that loops infinitely while a condition remains true\n",
    "# what we put for the while loop's boolean condition is the exact same kind of condition we might use in an if statement\n",
    "# while <boolean condition>:\n",
    "x = 0\n",
    "while x<10:\n",
    "    # the code within my while loop should impact that condition such that eventually the while loop will stop\n",
    "    print(x)\n",
    "    x = x+1 # once x reaches 10, the while loop stops running\n",
    "\n",
    "print(f'loop finished, current x value: {x}')"
   ]
  },
  {
   "cell_type": "markdown",
   "metadata": {},
   "source": [
    "##### Looping 'While True'"
   ]
  },
  {
   "cell_type": "code",
   "execution_count": 48,
   "metadata": {},
   "outputs": [
    {
     "name": "stdout",
     "output_type": "stream",
     "text": [
      "0\n",
      "1\n",
      "2\n",
      "3\n",
      "4\n",
      "5\n",
      "6\n",
      "7\n",
      "8\n",
      "9\n",
      "10\n",
      "loop over\n"
     ]
    }
   ],
   "source": [
    "# a while true loop will loop infinitely\n",
    "# unless you properly use a conditional and a break statement\n",
    "x = 0\n",
    "while True:\n",
    "    print(x)\n",
    "    x=x+1\n",
    "    if x > 10:\n",
    "        break\n",
    "        \n",
    "print('loop over')"
   ]
  },
  {
   "cell_type": "code",
   "execution_count": 49,
   "metadata": {},
   "outputs": [
    {
     "name": "stdout",
     "output_type": "stream",
     "text": [
      "Should I stop? (type stop to stop)no\n",
      "The user typed: no\n",
      "Should I stop? (type stop to stop)animal\n",
      "The user typed: animal\n",
      "Should I stop? (type stop to stop)fox\n",
      "The user typed: fox\n",
      "Should I stop? (type stop to stop)bear\n",
      "The user typed: bear\n",
      "Should I stop? (type stop to stop)chicken\n",
      "The user typed: chicken\n",
      "Should I stop? (type stop to stop)tiger\n",
      "The user typed: tiger\n",
      "Should I stop? (type stop to stop)stop\n"
     ]
    }
   ],
   "source": [
    "# while True is commonly used in little python projects that wait for user input\n",
    "while True:\n",
    "    hmm = input('Should I stop? (type stop to stop)' )\n",
    "    if hmm == 'stop':\n",
    "        break\n",
    "    print(f'The user typed: {hmm}')"
   ]
  },
  {
   "cell_type": "markdown",
   "metadata": {},
   "source": [
    "##### While & For Loops Used Together"
   ]
  },
  {
   "cell_type": "code",
   "execution_count": 50,
   "metadata": {},
   "outputs": [
    {
     "name": "stdout",
     "output_type": "stream",
     "text": [
      "Should I stop? (type stop to stop)tiger\n",
      "The user typed: tiger\n",
      "t\n",
      "i\n",
      "g\n",
      "e\n",
      "r\n",
      "Should I stop? (type stop to stop)panda\n",
      "The user typed: panda\n",
      "p\n",
      "a\n",
      "n\n",
      "d\n",
      "a\n",
      "Should I stop? (type stop to stop)fox\n",
      "The user typed: fox\n",
      "f\n",
      "o\n",
      "x\n",
      "Should I stop? (type stop to stop)stop\n"
     ]
    }
   ],
   "source": [
    "while True:\n",
    "    hmm = input('Should I stop? (type stop to stop)' )\n",
    "    if hmm == 'stop':\n",
    "        break\n",
    "    print(f'The user typed: {hmm}')\n",
    "    for letter in hmm: # writing a for loop through a string will always loop through individual letters\n",
    "        print(letter)\n",
    "        \n",
    "# where we had the for loop looping through entire words\n",
    "# that was because what we were looping through (our iterable) was a LIST of words"
   ]
  },
  {
   "cell_type": "code",
   "execution_count": 53,
   "metadata": {},
   "outputs": [
    {
     "name": "stdout",
     "output_type": "stream",
     "text": [
      "F\n",
      "o\n",
      "x\n",
      ",\n",
      " \n",
      "T\n",
      "i\n",
      "g\n",
      "e\n",
      "r\n",
      ",\n",
      " \n",
      "B\n",
      "e\n",
      "a\n",
      "r\n"
     ]
    }
   ],
   "source": [
    "x = 'Fox, Tiger, Bear'\n",
    "# the behaviour of the for loop is controlled by the datatype of the iterable\n",
    "for i in x:\n",
    "    print(i)"
   ]
  },
  {
   "cell_type": "markdown",
   "metadata": {},
   "source": [
    "### Built-In Functions"
   ]
  },
  {
   "cell_type": "markdown",
   "metadata": {},
   "source": [
    "##### range()"
   ]
  },
  {
   "cell_type": "code",
   "execution_count": 30,
   "metadata": {},
   "outputs": [
    {
     "name": "stdout",
     "output_type": "stream",
     "text": [
      "<class 'range'>\n",
      "[1, 4, 7, 10]\n",
      "[-3, -1, 1, 3, 5]\n",
      "The current i value is: -3\n",
      "The current i value is: -1\n",
      "The current i value is: 1\n",
      "The current i value is: 3\n",
      "The current i value is: 5\n",
      "The current x value is: 0\n",
      "The current x value is: 1\n",
      "The current x value is: 2\n",
      "The current x value is: 3\n",
      "The current x value is: 4\n"
     ]
    }
   ],
   "source": [
    "# range() is a generator that accepts 1 to 3 inputs\n",
    "# a starting value -> defaults to 0\n",
    "# an excluded stopping value -> no default\n",
    "# a step -> defaults to 1\n",
    "# range(start, stop, step)\n",
    "print(type(range(4)))\n",
    "# this function gives me back a weird data type? what is a class range? a range object?\n",
    "# it is giving you back a customized type of data that you can do some unique things with\n",
    "\n",
    "# two most common things to do with the range function\n",
    "# 1. turn it into a list using list()\n",
    "x = list(range(1, 11, 3))\n",
    "print(x)\n",
    "y = list(range(-3, 6, 2))\n",
    "print(y)\n",
    "\n",
    "# 2. use it in looping -> also see below with len()\n",
    "# a range object is an iterable -> i can write a for loop through a range\n",
    "for i in range(-3, 6, 2):\n",
    "    print(f'The current i value is: {i}')\n",
    "\n",
    "for x in range(5): # 0, 1, 2, 3, 4\n",
    "    print(f'The current x value is: {x}')"
   ]
  },
  {
   "cell_type": "markdown",
   "metadata": {},
   "source": [
    "##### len()"
   ]
  },
  {
   "cell_type": "code",
   "execution_count": 36,
   "metadata": {},
   "outputs": [
    {
     "name": "stdout",
     "output_type": "stream",
     "text": [
      "Foxes 5\n",
      "0\n",
      "1\n",
      "2\n",
      "3\n",
      "4\n",
      "Loop through the indexes of the string Kiera Knightley\n",
      "0\n",
      "1\n",
      "2\n",
      "3\n",
      "4\n",
      "5\n",
      "6\n",
      "7\n",
      "8\n",
      "9\n",
      "10\n",
      "11\n",
      "12\n",
      "13\n",
      "14\n"
     ]
    }
   ],
   "source": [
    "# the len function gives us the length of an iterable\n",
    "# how many characters in a string? len(string)\n",
    "# how many items in a list? len(list)\n",
    "# len() accepts an iterable as input and returns an integer\n",
    "animal = 'Foxes'\n",
    "len(animal)\n",
    "\n",
    "# how can we use this in conjunction with range()?\n",
    "# well, range() can only accept integers as input\n",
    "# len() returns an integer\n",
    "# so, if we call range() on the len() of some iterable\n",
    "# we will create a range from 0 up to the length of that iterable\n",
    "x = len(animal)\n",
    "print(animal, x)\n",
    "for i in range(x): # x is the length of the animal string which is 5 and range(5) gives us 0, 1, 2, 3, 4\n",
    "    print(i)\n",
    "    \n",
    "# range(len(<iterable>))\n",
    "# the two most common iterables we'll be working with (and the only two we'll learn today) are strings and lists\n",
    "\n",
    "# data types\n",
    "# the reason we can do range(len(something))\n",
    "# is that range accepts an integer input\n",
    "# and len gives an integer output\n",
    "\n",
    "# the most commonly used scenario of range() and len() is to create what's called an index for loop\n",
    "print('Loop through the indexes of the string Kiera Knightley')\n",
    "actress = 'Keira Knightley'\n",
    "for i in range(len(actress)):\n",
    "    print(i)"
   ]
  },
  {
   "cell_type": "code",
   "execution_count": 41,
   "metadata": {},
   "outputs": [
    {
     "name": "stdout",
     "output_type": "stream",
     "text": [
      "current i value: 0 | letter @ index i: O\n",
      "current i value: 1 | letter @ index i: C\n",
      "current i value: 2 | letter @ index i: E\n",
      "current i value: 3 | letter @ index i: L\n",
      "current i value: 4 | letter @ index i: O\n",
      "current i value: 5 | letter @ index i: T\n"
     ]
    }
   ],
   "source": [
    "# Why would we want an index for loop (aka looping through indexes)?\n",
    "# certain data types and collections are 'indexed'\n",
    "# this means that each small item in them has an associated index number which is it's location\n",
    "\n",
    "# strings, lists, tuples are the three indexed data types/collections we'll see\n",
    "animal = 'OCELOT'\n",
    "# index numbers can be used to access the individual letters\n",
    "# variable[index_number]\n",
    "animal[4]\n",
    "\n",
    "# if I write a loop through the range(len(animal))\n",
    "# that gives me the numbers 0, 1, 2, 3, 4, 5\n",
    "# those numbers correspond to the index numbers in the string animal\n",
    "# this is not an accident range() was specifically designed to work this way\n",
    "for i in range(len(animal)):\n",
    "    print(f'current i value: {i} | letter @ index i: {animal[i]}')\n",
    "\n",
    "    \n",
    "# the power of an index loop through a string is that we can access multiple letters at once\n",
    "# index loops are even more powerful with lists because we can modify values in a list using an index loop"
   ]
  },
  {
   "cell_type": "code",
   "execution_count": 48,
   "metadata": {},
   "outputs": [
    {
     "data": {
      "text/plain": [
       "'T'"
      ]
     },
     "execution_count": 48,
     "metadata": {},
     "output_type": "execute_result"
    }
   ],
   "source": [
    "# indexes of a string or a list always work off of a base-0 indexing system\n",
    "# first letter/number/item will always be at index 0\n",
    "# *unless you're looking through it backwards ->\n",
    "    # the last index in a string or a list can be accessed at index -1\n",
    "animal = 'OCELOT'\n",
    "animal[-1] # animal at index -1 is the T"
   ]
  },
  {
   "cell_type": "code",
   "execution_count": 57,
   "metadata": {},
   "outputs": [
    {
     "name": "stdout",
     "output_type": "stream",
     "text": [
      "0 r r\n",
      "1 a a\n",
      "2 c b\n",
      "This is not a palindrome.\n"
     ]
    }
   ],
   "source": [
    "# Shaharima's question: can we use range(len()) and index looping to help us solve this morning's whiteboard?\n",
    "# Absolutely\n",
    "# if I want to determine whether something is a palindrome or not\n",
    "\n",
    "word = 'racebar'\n",
    "for i in range(len(word)):\n",
    "    print(i, word[i], word[-(i+1)])\n",
    "    # i need to access both r's\n",
    "    # word[i] gives me access to the letter on the front half\n",
    "    # word[-(i+1)] or word[len(word)-1-i] gives me access to the letter on the back half\n",
    "    # datatype of index number you are accessing must be an integer\n",
    "    if word[i] == word[-(i+1)]:\n",
    "        continue\n",
    "    else:\n",
    "        print('This is not a palindrome.')\n",
    "        break"
   ]
  },
  {
   "cell_type": "code",
   "execution_count": 64,
   "metadata": {},
   "outputs": [
    {
     "name": "stdout",
     "output_type": "stream",
     "text": [
      "0 f s\n",
      "This is not a palindrome.\n"
     ]
    }
   ],
   "source": [
    "# this is one of the best perfoming palindrome checking answer\n",
    "\n",
    "def isPalindrome(word):\n",
    "    # //2 is dividing by two and rounding down to the nearest integer\n",
    "    for i in range(len(word)//2):\n",
    "        print(i, word[i], word[-(i+1)])\n",
    "        if word[i] == word[-(i+1)]:\n",
    "            continue\n",
    "        else:\n",
    "            print('This is not a palindrome.')\n",
    "            return\n",
    "    print(f'The word {word} is a palindrome.')\n",
    "\n",
    "isPalindrome('foxes')"
   ]
  },
  {
   "cell_type": "markdown",
   "metadata": {},
   "source": [
    "##### help()"
   ]
  },
  {
   "cell_type": "code",
   "execution_count": 21,
   "metadata": {},
   "outputs": [
    {
     "name": "stdout",
     "output_type": "stream",
     "text": [
      "Help on built-in function print in module builtins:\n",
      "\n",
      "print(...)\n",
      "    print(value, ..., sep=' ', end='\\n', file=sys.stdout, flush=False)\n",
      "    \n",
      "    Prints the values to a stream, or to sys.stdout by default.\n",
      "    Optional keyword arguments:\n",
      "    file:  a file-like object (stream); defaults to the current sys.stdout.\n",
      "    sep:   string inserted between values, default a space.\n",
      "    end:   string appended after the last value, default a newline.\n",
      "    flush: whether to forcibly flush the stream.\n",
      "\n"
     ]
    }
   ],
   "source": [
    "# help can be called on a function name or method name \n",
    "    # to get the docstring/description/documentation/more info on the function/method\n",
    "\n",
    "# comments are just notes that tell us or other developers about the code we're writing\n",
    "help(range)\n",
    "\n",
    "range?\n",
    "# question mark does much the same, just pulls it out in a popup and may give slightly different information"
   ]
  },
  {
   "cell_type": "markdown",
   "metadata": {},
   "source": [
    "##### isinstance()"
   ]
  },
  {
   "cell_type": "code",
   "execution_count": 73,
   "metadata": {},
   "outputs": [
    {
     "name": "stdout",
     "output_type": "stream",
     "text": [
      "pieceofdata is in fact a float!\n"
     ]
    }
   ],
   "source": [
    "# isinstance() accepts a variable/value and a data type\n",
    "# it returns True if the variable is of the same data type as the data type you provided\n",
    "# otherwise it returns False\n",
    "x = 5\n",
    "isinstance(x, int)\n",
    "\n",
    "animal = 'ocelot'\n",
    "isinstance(animal, str)\n",
    "\n",
    "# isinstance is useful in determining whether or not a piece of data is of a certain data type\n",
    "# because it returns a boolean True/False it can be used as a condition in an if statement or a while loop\n",
    "pieceofdata = 5.32\n",
    "if isinstance(pieceofdata, float):\n",
    "    print(f'pieceofdata is in fact a float!')\n",
    "    \n",
    "# names of datatypes you can provide: str (string), int (integer), float, bool (boolean), list\n"
   ]
  },
  {
   "cell_type": "markdown",
   "metadata": {},
   "source": [
    "##### abs()"
   ]
  },
  {
   "cell_type": "code",
   "execution_count": 67,
   "metadata": {},
   "outputs": [
    {
     "name": "stdout",
     "output_type": "stream",
     "text": [
      "5\n",
      "32.5\n"
     ]
    }
   ],
   "source": [
    "# absolute value of an integer or a float\n",
    "# absolute value is just the positive version of any number\n",
    "x = abs(5)\n",
    "print(x)\n",
    "y = abs(-32.5)\n",
    "print(y)"
   ]
  },
  {
   "cell_type": "markdown",
   "metadata": {},
   "source": [
    "### Try and Except"
   ]
  },
  {
   "cell_type": "code",
   "execution_count": 74,
   "metadata": {},
   "outputs": [
    {
     "name": "stdout",
     "output_type": "stream",
     "text": [
      "you cant add a string to an integer\n"
     ]
    }
   ],
   "source": [
    "# try and except are two code blocks used in conjunction with eachother for error handling\n",
    "# try to run the code in the try block\n",
    "# if that works, great! move on.\n",
    "# if the code in the try block produces an error, don't stop\n",
    "# just run the code in the except block instead\n",
    "try:\n",
    "    x = 5\n",
    "    x = x + 'dog'\n",
    "    print(x)\n",
    "except:\n",
    "    print('you cant add a string to an integer')"
   ]
  },
  {
   "cell_type": "code",
   "execution_count": 76,
   "metadata": {},
   "outputs": [
    {
     "ename": "TypeError",
     "evalue": "unsupported operand type(s) for +: 'int' and 'str'",
     "output_type": "error",
     "traceback": [
      "\u001b[1;31m---------------------------------------------------------------------------\u001b[0m",
      "\u001b[1;31mTypeError\u001b[0m                                 Traceback (most recent call last)",
      "\u001b[1;32m<ipython-input-76-70e7dd5f12f2>\u001b[0m in \u001b[0;36m<module>\u001b[1;34m\u001b[0m\n\u001b[0;32m      1\u001b[0m \u001b[0mx\u001b[0m \u001b[1;33m=\u001b[0m \u001b[1;36m5\u001b[0m\u001b[1;33m\u001b[0m\u001b[1;33m\u001b[0m\u001b[0m\n\u001b[1;32m----> 2\u001b[1;33m \u001b[0mx\u001b[0m \u001b[1;33m=\u001b[0m \u001b[0mx\u001b[0m \u001b[1;33m+\u001b[0m \u001b[1;34m'dog'\u001b[0m\u001b[1;33m\u001b[0m\u001b[1;33m\u001b[0m\u001b[0m\n\u001b[0m\u001b[0;32m      3\u001b[0m \u001b[0mprint\u001b[0m\u001b[1;33m(\u001b[0m\u001b[0mx\u001b[0m\u001b[1;33m)\u001b[0m\u001b[1;33m\u001b[0m\u001b[1;33m\u001b[0m\u001b[0m\n",
      "\u001b[1;31mTypeError\u001b[0m: unsupported operand type(s) for +: 'int' and 'str'"
     ]
    }
   ],
   "source": [
    "x = 5\n",
    "x = x + 'dog'\n",
    "print(x)"
   ]
  },
  {
   "cell_type": "code",
   "execution_count": null,
   "metadata": {},
   "outputs": [],
   "source": [
    "# DO NOT JUST THROW TRY/EXCEPT BLOCKS EVERYWHERE\n",
    "# it is bad practice to use them to avoid errors\n",
    "# unless you specifically know what error you are using the try/except block for\n",
    "# if you can say \"i know my code will break because of x. in the scenario that x happens, I want to do y instead\"\n",
    "# that's a good time to use a try/except block\n",
    "\n",
    "while True:\n",
    "    age = input('What is your age? ')\n",
    "    try:\n",
    "        age = int(age) # the try except block is ok here \n",
    "                    # because I am specifically using it to handle the error\n",
    "                    # of a user giving input that isn't a number\n",
    "        if age < 18:\n",
    "            print('kid')\n",
    "            break\n",
    "        elif age < 65:\n",
    "            print('adult')\n",
    "            break\n",
    "        else:\n",
    "            print('senior')\n",
    "            break\n",
    "    except:\n",
    "        print('Please only input integer values. Try again.')"
   ]
  },
  {
   "cell_type": "code",
   "execution_count": 80,
   "metadata": {},
   "outputs": [
    {
     "name": "stdout",
     "output_type": "stream",
     "text": [
      "cannot convert b4 to integer\n"
     ]
    }
   ],
   "source": [
    "try:\n",
    "    int('b4')\n",
    "except:\n",
    "    print('cannot convert b4 to integer')\n",
    "# the try/except block is most commonly used for handling edge cases"
   ]
  },
  {
   "cell_type": "code",
   "execution_count": 84,
   "metadata": {},
   "outputs": [
    {
     "name": "stdout",
     "output_type": "stream",
     "text": [
      "I think you tried to divide by 0\n"
     ]
    }
   ],
   "source": [
    "# division makes sense for dividing by every number\n",
    "# except 0\n",
    "# dividing by 0 makes no sense\n",
    "# therefore we would say that in a division problem -> dividing by 0 is an 'edge case'\n",
    "a = 5\n",
    "b = 0\n",
    "try:\n",
    "    print(a/b)\n",
    "except:\n",
    "    print('I think you tried to divide by 0')"
   ]
  },
  {
   "cell_type": "markdown",
   "metadata": {},
   "source": [
    "### Lists"
   ]
  },
  {
   "cell_type": "markdown",
   "metadata": {},
   "source": [
    "<h4>Our first collection/data structure!</h4>\n",
    "<p>In other programming languages the equivalent or closest thing to a list is usually called an array</p>\n",
    "<p>Lists are the first mutable data type we've looked at! We can change them! We can change their order, we can change individual pieces of them without changing the entire thing.</p>"
   ]
  },
  {
   "cell_type": "markdown",
   "metadata": {},
   "source": [
    "##### Declaring Lists"
   ]
  },
  {
   "cell_type": "code",
   "execution_count": 88,
   "metadata": {},
   "outputs": [
    {
     "name": "stdout",
     "output_type": "stream",
     "text": [
      "<class 'list'>\n",
      "['fox', 'bear', 'ocelot', 'penguin']\n",
      "[1, 2, 3, 4.5, 3.76]\n",
      "['fox', 1, 'rabbit', 1, 2, 3, 5, 8, 13, 'bear']\n"
     ]
    }
   ],
   "source": [
    "# our syntax clue and how we declare a list is by using square brackets []\n",
    "animals = [] # declaring an empty list\n",
    "print(type(animals))\n",
    "\n",
    "# declare a list with values -> values in a list can be of any data type and are separated by commas\n",
    "animals = ['fox', 'bear', 'ocelot', 'penguin']\n",
    "print(animals)\n",
    "\n",
    "nums = [1, 2, 3, 4.5, 3.76]\n",
    "print(nums)\n",
    "\n",
    "weirdlist = ['fox', 1, 'rabbit', 1, 2, 3, 5, 8, 13, 'bear']\n",
    "print(weirdlist)"
   ]
  },
  {
   "cell_type": "markdown",
   "metadata": {},
   "source": [
    "##### Indexing a List"
   ]
  },
  {
   "cell_type": "code",
   "execution_count": 98,
   "metadata": {},
   "outputs": [
    {
     "name": "stdout",
     "output_type": "stream",
     "text": [
      "fox\n",
      "penguin\n",
      "penguin\n",
      "['fox', 'bear', 'ocelot', 'penguin']\n",
      "['fox', 'hyena', 'ocelot', 'penguin']\n",
      "['fox', 'hyena', 'ocelot', 'im gonna steal a penguin']\n"
     ]
    }
   ],
   "source": [
    "# just like strings, lists have the same base-0 index system attached to them\n",
    "animals = ['fox', 'bear', 'ocelot', 'penguin']\n",
    "# fox, the first item, is at index 0\n",
    "print(animals[0])\n",
    "\n",
    "# syntax for indexing into a list is the same as what we saw for strings\n",
    "# name_of_list[index_number]\n",
    "\n",
    "# 'penguin' the last item can be accessed through index number 3 or index number -1\n",
    "print(animals[3])\n",
    "print(animals[-1])\n",
    "\n",
    "# modifying the value at an index in a list using variable assignment\n",
    "# just like i can say x = 3\n",
    "# i can say list[1] = 3\n",
    "\n",
    "# for example -> lets change the 'bear' in the animals list index #1 to 'hyena'\n",
    "print(animals)\n",
    "animals[1] = 'hyena'\n",
    "print(animals)\n",
    "# we could change 'penguin' to 'im gonna steal a penguin'\n",
    "animals[3] = 'im gonna steal a ' + animals[3] # bc the value at animals[3] is a string, we can use string concatenation\n",
    "print(animals)"
   ]
  },
  {
   "cell_type": "code",
   "execution_count": 95,
   "metadata": {},
   "outputs": [
    {
     "name": "stdout",
     "output_type": "stream",
     "text": [
      "e\n"
     ]
    },
    {
     "ename": "TypeError",
     "evalue": "'str' object does not support item assignment",
     "output_type": "error",
     "traceback": [
      "\u001b[1;31m---------------------------------------------------------------------------\u001b[0m",
      "\u001b[1;31mTypeError\u001b[0m                                 Traceback (most recent call last)",
      "\u001b[1;32m<ipython-input-95-ef325ac4e590>\u001b[0m in \u001b[0;36m<module>\u001b[1;34m\u001b[0m\n\u001b[0;32m      2\u001b[0m \u001b[0mword\u001b[0m \u001b[1;33m=\u001b[0m \u001b[1;34m'bear'\u001b[0m\u001b[1;33m\u001b[0m\u001b[1;33m\u001b[0m\u001b[0m\n\u001b[0;32m      3\u001b[0m \u001b[0mprint\u001b[0m\u001b[1;33m(\u001b[0m\u001b[0mword\u001b[0m\u001b[1;33m[\u001b[0m\u001b[1;36m1\u001b[0m\u001b[1;33m]\u001b[0m\u001b[1;33m)\u001b[0m\u001b[1;33m\u001b[0m\u001b[1;33m\u001b[0m\u001b[0m\n\u001b[1;32m----> 4\u001b[1;33m \u001b[0mword\u001b[0m\u001b[1;33m[\u001b[0m\u001b[1;36m1\u001b[0m\u001b[1;33m]\u001b[0m \u001b[1;33m=\u001b[0m \u001b[1;34m'o'\u001b[0m\u001b[1;33m\u001b[0m\u001b[1;33m\u001b[0m\u001b[0m\n\u001b[0m",
      "\u001b[1;31mTypeError\u001b[0m: 'str' object does not support item assignment"
     ]
    }
   ],
   "source": [
    "# cannot reassign/redefine a single index in a string\n",
    "# because strings are immutable -> they cannot be directly changed\n",
    "word = 'bear'\n",
    "print(word[1])\n",
    "word[1] = 'o'"
   ]
  },
  {
   "cell_type": "markdown",
   "metadata": {},
   "source": [
    "##### .append()"
   ]
  },
  {
   "cell_type": "code",
   "execution_count": 100,
   "metadata": {},
   "outputs": [
    {
     "name": "stdout",
     "output_type": "stream",
     "text": [
      "['fox', 'bear', 'ocelot', 'penguin']\n",
      "['fox', 'bear', 'ocelot', 'penguin', 'orca']\n"
     ]
    }
   ],
   "source": [
    "# add something to the end of a list\n",
    "# name_of_list.append(thing_to_add)\n",
    "animals = ['fox', 'bear', 'ocelot', 'penguin']\n",
    "print(animals)\n",
    "animals.append('orca')\n",
    "print(animals)"
   ]
  },
  {
   "cell_type": "markdown",
   "metadata": {},
   "source": [
    "##### .insert()"
   ]
  },
  {
   "cell_type": "code",
   "execution_count": 104,
   "metadata": {},
   "outputs": [
    {
     "name": "stdout",
     "output_type": "stream",
     "text": [
      "['fox', 'bear', 'ocelot', 'penguin', 'orca']\n",
      "['fox', 'echidna', 'bear', 'ocelot', 'penguin', 'orca']\n"
     ]
    }
   ],
   "source": [
    "# we can add at a specific location in the list\n",
    "# name_of_list.insert(index_number, value)\n",
    "print(animals)\n",
    "animals.insert(1, 'echidna')\n",
    "print(animals)"
   ]
  },
  {
   "cell_type": "markdown",
   "metadata": {},
   "source": [
    "##### .pop()"
   ]
  },
  {
   "cell_type": "code",
   "execution_count": 107,
   "metadata": {},
   "outputs": [
    {
     "name": "stdout",
     "output_type": "stream",
     "text": [
      "['fox', 'echidna', 'bear', 'ocelot', 'penguin']\n",
      "['fox', 'echidna', 'bear', 'ocelot']\n",
      "['fox', 'echidna', 'ocelot']\n",
      "bear\n"
     ]
    }
   ],
   "source": [
    "# removes based on an index number\n",
    "# by default it will remove the last element in a list aka the element at index -1\n",
    "print(animals)\n",
    "# list.pop(index)\n",
    "animals.pop()\n",
    "print(animals)\n",
    "\n",
    "# another thing to note about pop -> it will RETURN the removed value\n",
    "removed = animals.pop(2)\n",
    "print(animals)\n",
    "print(removed)"
   ]
  },
  {
   "cell_type": "code",
   "execution_count": 116,
   "metadata": {},
   "outputs": [
    {
     "name": "stdout",
     "output_type": "stream",
     "text": [
      "this string is a return value\n"
     ]
    }
   ],
   "source": [
    "def myFunc():\n",
    "    return 'this string is a return value'\n",
    "# if i set a variable equal to a function call\n",
    "# that variable will have value of the function's return value\n",
    "var = myFunc()\n",
    "print(var)"
   ]
  },
  {
   "cell_type": "markdown",
   "metadata": {},
   "source": [
    "\n",
    "##### .remove()"
   ]
  },
  {
   "cell_type": "code",
   "execution_count": 113,
   "metadata": {},
   "outputs": [
    {
     "name": "stdout",
     "output_type": "stream",
     "text": [
      "['fox', 'echidna', 'bear', 'ocelot', 'penguin']\n",
      "['fox', 'bear', 'ocelot', 'penguin']\n"
     ]
    }
   ],
   "source": [
    "# remove based on a value in the list\n",
    "animals = ['fox', 'echidna', 'bear', 'ocelot', 'penguin']\n",
    "print(animals)\n",
    "animals.remove('echidna')\n",
    "print(animals)\n",
    "\n",
    "# .remove() does not return the removed value -> .remove() returns None\n",
    "\n",
    "# .remove() gives a value error if you try to remove something not in the list"
   ]
  },
  {
   "cell_type": "markdown",
   "metadata": {},
   "source": [
    "##### del"
   ]
  },
  {
   "cell_type": "code",
   "execution_count": 118,
   "metadata": {},
   "outputs": [
    {
     "name": "stdout",
     "output_type": "stream",
     "text": [
      "['fox', 'bear', 'ocelot', 'penguin']\n"
     ]
    },
    {
     "ename": "NameError",
     "evalue": "name 'animals' is not defined",
     "output_type": "error",
     "traceback": [
      "\u001b[1;31m---------------------------------------------------------------------------\u001b[0m",
      "\u001b[1;31mNameError\u001b[0m                                 Traceback (most recent call last)",
      "\u001b[1;32m<ipython-input-118-9f97adced89a>\u001b[0m in \u001b[0;36m<module>\u001b[1;34m\u001b[0m\n\u001b[0;32m      2\u001b[0m \u001b[0mprint\u001b[0m\u001b[1;33m(\u001b[0m\u001b[0manimals\u001b[0m\u001b[1;33m)\u001b[0m\u001b[1;33m\u001b[0m\u001b[1;33m\u001b[0m\u001b[0m\n\u001b[0;32m      3\u001b[0m \u001b[1;32mdel\u001b[0m \u001b[0manimals\u001b[0m\u001b[1;33m\u001b[0m\u001b[1;33m\u001b[0m\u001b[0m\n\u001b[1;32m----> 4\u001b[1;33m \u001b[0mprint\u001b[0m\u001b[1;33m(\u001b[0m\u001b[0manimals\u001b[0m\u001b[1;33m)\u001b[0m\u001b[1;33m\u001b[0m\u001b[1;33m\u001b[0m\u001b[0m\n\u001b[0m",
      "\u001b[1;31mNameError\u001b[0m: name 'animals' is not defined"
     ]
    }
   ],
   "source": [
    "# if you just want to nuke a list and remove any trace of it from your computer's memory\n",
    "print(animals)\n",
    "del animals\n",
    "print(animals)"
   ]
  },
  {
   "cell_type": "markdown",
   "metadata": {},
   "source": [
    "##### Concatenating Two Lists"
   ]
  },
  {
   "cell_type": "code",
   "execution_count": 119,
   "metadata": {},
   "outputs": [
    {
     "name": "stdout",
     "output_type": "stream",
     "text": [
      "['fox', 'cat', 'dog', 'sea urchin', 'otter', 'beluga']\n"
     ]
    }
   ],
   "source": [
    "#just like string concatenation\n",
    "#we can add two lists together to make a new list\n",
    "animals1 = ['fox', 'cat', 'dog']\n",
    "animals2 = ['sea urchin', 'otter', 'beluga']\n",
    "\n",
    "animals3 = animals1+animals2\n",
    "print(animals3)"
   ]
  },
  {
   "cell_type": "markdown",
   "metadata": {},
   "source": [
    "##### Lists Within Lists"
   ]
  },
  {
   "cell_type": "code",
   "execution_count": 135,
   "metadata": {},
   "outputs": [
    {
     "name": "stdout",
     "output_type": "stream",
     "text": [
      "[['Fennec Fox', 'Lion', 'African Elephant', 'Gazelle'], ['Sea Otter', 'Sea Snake', 'Eel', 'Orca'], ['Grizzly Bear', 'Mountain Lion', 'Moose', 'Squirrel']]\n",
      "[['Fennec Fox', 'Lion', 'African Elephant', 'Gazelle'], ['Sea Otter', 'SEA SNAKE', 'Eel', 'Orca'], ['Grizzly Bear', 'Mountain Lion', 'Moose', 'Squirrel']]\n"
     ]
    }
   ],
   "source": [
    "african = ['Fennec Fox', 'Lion', 'African Elephant', 'Gazelle']\n",
    "sea = ['Sea Otter', 'Sea Snake', 'Eel', 'Orca']\n",
    "american = ['Grizzly Bear', 'Mountain Lion', 'Moose', 'Squirrel']\n",
    "\n",
    "animals = [african, sea, american]\n",
    "#print(animals)\n",
    "# the list of sea creatures is at the animals list index #1\n",
    "#print(animals[1])\n",
    "\n",
    "# chaining is the idea of putting together multiple processes (function calls, indexing, etc.) one after the other\n",
    "# to work on the result of preceeding process\n",
    "# for example -> I want to get the string sea snake\n",
    "# the string sea snake is in the 1st index of the sea creatures list\n",
    "# the sea creatures is in the 1st index of the animals list\n",
    "# animals[1][1] can then be thought of as just the name of a string\n",
    "# so we can do anything we want with that string that we might normally do with a string\n",
    "# including redefine it in the list\n",
    "print(animals)\n",
    "animals[1][1] = animals[1][1].upper()\n",
    "print(animals)"
   ]
  },
  {
   "cell_type": "markdown",
   "metadata": {},
   "source": [
    "##### Looping Through Lists"
   ]
  },
  {
   "cell_type": "code",
   "execution_count": 121,
   "metadata": {},
   "outputs": [
    {
     "name": "stdout",
     "output_type": "stream",
     "text": [
      "sea urchin\n",
      "otter\n",
      "beluga\n",
      "orca\n",
      "octopus\n"
     ]
    }
   ],
   "source": [
    "# one of the most common processes you will write in your code\n",
    "# it functions much the same as looping through a string\n",
    "# simplest version - for in loop\n",
    "animals2 = ['sea urchin', 'otter', 'beluga', 'orca', 'octopus']\n",
    "\n",
    "for a in animals2:\n",
    "    # a will represent each item within the list\n",
    "    print(a)"
   ]
  },
  {
   "cell_type": "code",
   "execution_count": 126,
   "metadata": {},
   "outputs": [
    {
     "name": "stdout",
     "output_type": "stream",
     "text": [
      "0 sea urchin\n",
      "1 otter\n",
      "2 beluga\n",
      "3 orca\n",
      "4 octopus\n",
      "['sea urchin!', 'otter!', 'beluga!', 'orca!', 'octopus!']\n"
     ]
    }
   ],
   "source": [
    "# while a for-in loop is the simplest way to loop through the values in a list\n",
    "# we can only access the values in the list with that kind of loop\n",
    "# if i want to modify the values in the list, I must use an index loop\n",
    "# len(a_list) -> returns an integer of the length of the list\n",
    "animals2 = ['sea urchin', 'otter', 'beluga', 'orca', 'octopus']\n",
    "for i in range(len(animals2)):\n",
    "    print(i, animals2[i])\n",
    "    # i have the additional power of being able to directly modify the values in my list\n",
    "    # with this index loop\n",
    "    animals2[i] = animals2[i]+'!' # variable redefinition\n",
    "                # setting the value of animals2 at index #i to be equal to \n",
    "                # the old value that is currently there and adding an exclamation point using string concatenation\n",
    "print(animals2)"
   ]
  },
  {
   "cell_type": "markdown",
   "metadata": {},
   "source": [
    "## Exercise #1 <br>\n",
    "<p>Cube Number Test... Print out all cubed numbers up to the total value 1000. Meaning that if the cubed number is over 1000 break the loop.</p>"
   ]
  },
  {
   "cell_type": "code",
   "execution_count": 11,
   "metadata": {},
   "outputs": [
    {
     "name": "stdout",
     "output_type": "stream",
     "text": [
      "1\n",
      "8\n",
      "27\n",
      "64\n",
      "125\n",
      "216\n",
      "343\n",
      "512\n",
      "729\n",
      "1000\n"
     ]
    }
   ],
   "source": [
    "#input:integer\n",
    "#output:integer\n",
    "#Output will all cubed numbers upto 1000\n",
    "\n",
    "\n",
    "for i in range(1,1000):\n",
    "    print(i**3);\n",
    "    if i**3==1000:\n",
    "        break\n",
    "    \n",
    "    \n",
    "        \n",
    "\n",
    "\n",
    "\n"
   ]
  },
  {
   "cell_type": "markdown",
   "metadata": {},
   "source": [
    "## Exercise #2 <br>\n",
    "<p>Get first prime numbers up to 100</p>"
   ]
  },
  {
   "cell_type": "code",
   "execution_count": 6,
   "metadata": {},
   "outputs": [
    {
     "name": "stdout",
     "output_type": "stream",
     "text": [
      "2\n",
      "3\n",
      "5\n",
      "7\n",
      "11\n",
      "13\n",
      "17\n",
      "19\n",
      "23\n",
      "29\n",
      "31\n",
      "37\n",
      "41\n",
      "43\n",
      "47\n",
      "53\n",
      "59\n",
      "61\n",
      "67\n",
      "71\n",
      "73\n",
      "79\n",
      "83\n",
      "89\n",
      "97\n"
     ]
    }
   ],
   "source": [
    "# HINT::\n",
    "# An else after an if runs if the if didn’t\n",
    "# An else after a for runs if the for didn’t break\n",
    "#input: integer\n",
    "#output:integer\n",
    "#Problem: first prime number upto 100\n",
    "\n",
    "for num in range(2,101):\n",
    "    for i in range(2, num):\n",
    "        if (num % i) == 0:\n",
    "            break\n",
    "    else:\n",
    "        print(num)\n",
    "\n",
    "\n",
    "\n"
   ]
  },
  {
   "cell_type": "markdown",
   "metadata": {},
   "source": [
    "# Exercise 3 <br>\n",
    "<p>Take in a users input for their age, if they are younger than 18 print kids, if they're 18 to 65 print adults, else print seniors</p>"
   ]
  },
  {
   "cell_type": "code",
   "execution_count": 15,
   "metadata": {},
   "outputs": [
    {
     "name": "stdout",
     "output_type": "stream",
     "text": [
      "What is your age? 5\n",
      "kid\n"
     ]
    }
   ],
   "source": [
    "# Pay attention to the data type of every variable you are working with!\n",
    "# Data Types are everything!\n",
    "\n",
    "# ask for user input for their age\n",
    "age = input('What is your age? ')\n",
    "\n",
    "#how do we convert a string representation of a number to an integer?\n",
    "# int()\n",
    "age = int(age)\n",
    "\n",
    "# 3 conditions based on an age\n",
    "if age < 18:\n",
    "    print('kid')\n",
    "elif age < 65:\n",
    "    print('adult')\n",
    "else:\n",
    "    print('senior')"
   ]
  },
  {
   "cell_type": "code",
   "execution_count": 16,
   "metadata": {},
   "outputs": [
    {
     "name": "stdout",
     "output_type": "stream",
     "text": [
      "What is your age? five\n",
      "Please only input integer values. Try again.\n",
      "What is your age? 5\n",
      "kid\n"
     ]
    }
   ],
   "source": [
    "while True:\n",
    "    age = input('What is your age? ')\n",
    "    try:\n",
    "        age = int(age)\n",
    "        if age < 18:\n",
    "            print('kid')\n",
    "            break\n",
    "        elif age < 65:\n",
    "            print('adult')\n",
    "            break\n",
    "        else:\n",
    "            print('senior')\n",
    "            break\n",
    "    except:\n",
    "        print('Please only input integer values. Try again.')"
   ]
  },
  {
   "cell_type": "code",
   "execution_count": null,
   "metadata": {},
   "outputs": [],
   "source": []
  }
 ],
 "metadata": {
  "kernelspec": {
   "display_name": "Python 3",
   "language": "python",
   "name": "python3"
  },
  "language_info": {
   "codemirror_mode": {
    "name": "ipython",
    "version": 3
   },
   "file_extension": ".py",
   "mimetype": "text/x-python",
   "name": "python",
   "nbconvert_exporter": "python",
   "pygments_lexer": "ipython3",
   "version": "3.9.7"
  }
 },
 "nbformat": 4,
 "nbformat_minor": 2
}
